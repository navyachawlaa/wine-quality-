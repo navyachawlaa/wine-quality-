{
 "cells": [
  {
   "attachments": {},
   "cell_type": "markdown",
   "id": "493b5c18",
   "metadata": {
    "papermill": {
     "duration": 0.022209,
     "end_time": "2021-08-17T14:05:51.173503",
     "exception": false,
     "start_time": "2021-08-17T14:05:51.151294",
     "status": "completed"
    },
    "tags": []
   },
   "source": [
    "# Importing libraries"
   ]
  },
  {
   "cell_type": "code",
   "execution_count": 1,
   "id": "2f0dfee4",
   "metadata": {
    "execution": {
     "iopub.execute_input": "2021-08-17T14:05:51.224011Z",
     "iopub.status.busy": "2021-08-17T14:05:51.223305Z",
     "iopub.status.idle": "2021-08-17T14:05:52.316848Z",
     "shell.execute_reply": "2021-08-17T14:05:52.316068Z",
     "shell.execute_reply.started": "2021-08-17T13:57:25.176077Z"
    },
    "papermill": {
     "duration": 1.120646,
     "end_time": "2021-08-17T14:05:52.317001",
     "exception": false,
     "start_time": "2021-08-17T14:05:51.196355",
     "status": "completed"
    },
    "tags": []
   },
   "outputs": [],
   "source": [
    "import pandas as pd\n",
    "import numpy as np\n",
    "import matplotlib.pyplot as plt\n",
    "import seaborn as sns"
   ]
  },
  {
   "attachments": {},
   "cell_type": "markdown",
   "id": "a4faf786",
   "metadata": {
    "papermill": {
     "duration": 0.022501,
     "end_time": "2021-08-17T14:05:52.361932",
     "exception": false,
     "start_time": "2021-08-17T14:05:52.339431",
     "status": "completed"
    },
    "tags": []
   },
   "source": [
    "# Read data"
   ]
  },
  {
   "cell_type": "code",
   "execution_count": 2,
   "id": "c47eb829",
   "metadata": {
    "execution": {
     "iopub.execute_input": "2021-08-17T14:05:52.413736Z",
     "iopub.status.busy": "2021-08-17T14:05:52.412915Z",
     "iopub.status.idle": "2021-08-17T14:05:52.477761Z",
     "shell.execute_reply": "2021-08-17T14:05:52.477226Z",
     "shell.execute_reply.started": "2021-08-17T13:57:54.782067Z"
    },
    "papermill": {
     "duration": 0.09236,
     "end_time": "2021-08-17T14:05:52.477913",
     "exception": false,
     "start_time": "2021-08-17T14:05:52.385553",
     "status": "completed"
    },
    "tags": []
   },
   "outputs": [],
   "source": [
    "df_white=pd.read_csv('data/winequality-white.csv', sep=';')\n",
    "df_red=pd.read_csv('data/winequality-red.csv', sep=';')"
   ]
  },
  {
   "attachments": {},
   "cell_type": "markdown",
   "id": "6a89d084",
   "metadata": {
    "papermill": {
     "duration": 0.022946,
     "end_time": "2021-08-17T14:05:52.524462",
     "exception": false,
     "start_time": "2021-08-17T14:05:52.501516",
     "status": "completed"
    },
    "tags": []
   },
   "source": [
    "# Analysis"
   ]
  },
  {
   "cell_type": "code",
   "execution_count": 3,
   "id": "74add70b",
   "metadata": {
    "execution": {
     "iopub.execute_input": "2021-08-17T14:05:52.576527Z",
     "iopub.status.busy": "2021-08-17T14:05:52.575624Z",
     "iopub.status.idle": "2021-08-17T14:05:52.579338Z",
     "shell.execute_reply": "2021-08-17T14:05:52.578687Z",
     "shell.execute_reply.started": "2021-08-17T13:58:33.046350Z"
    },
    "papermill": {
     "duration": 0.032257,
     "end_time": "2021-08-17T14:05:52.579482",
     "exception": false,
     "start_time": "2021-08-17T14:05:52.547225",
     "status": "completed"
    },
    "tags": []
   },
   "outputs": [
    {
     "data": {
      "text/plain": [
       "(1599, 13)"
      ]
     },
     "execution_count": 3,
     "metadata": {},
     "output_type": "execute_result"
    }
   ],
   "source": [
    "df_red.shape"
   ]
  },
  {
   "cell_type": "code",
   "execution_count": 4,
   "id": "3e9c3d3b",
   "metadata": {},
   "outputs": [
    {
     "data": {
      "text/plain": [
       "(4898, 12)"
      ]
     },
     "execution_count": 4,
     "metadata": {},
     "output_type": "execute_result"
    }
   ],
   "source": [
    "df_white.shape"
   ]
  },
  {
   "cell_type": "code",
   "execution_count": 5,
   "id": "ad62e77f",
   "metadata": {
    "execution": {
     "iopub.execute_input": "2021-08-17T14:05:52.637488Z",
     "iopub.status.busy": "2021-08-17T14:05:52.636799Z",
     "iopub.status.idle": "2021-08-17T14:05:52.685610Z",
     "shell.execute_reply": "2021-08-17T14:05:52.685031Z",
     "shell.execute_reply.started": "2021-08-17T13:58:47.973484Z"
    },
    "papermill": {
     "duration": 0.082757,
     "end_time": "2021-08-17T14:05:52.685766",
     "exception": false,
     "start_time": "2021-08-17T14:05:52.603009",
     "status": "completed"
    },
    "tags": []
   },
   "outputs": [
    {
     "data": {
      "text/html": [
       "<div>\n",
       "<style scoped>\n",
       "    .dataframe tbody tr th:only-of-type {\n",
       "        vertical-align: middle;\n",
       "    }\n",
       "\n",
       "    .dataframe tbody tr th {\n",
       "        vertical-align: top;\n",
       "    }\n",
       "\n",
       "    .dataframe thead th {\n",
       "        text-align: right;\n",
       "    }\n",
       "</style>\n",
       "<table border=\"1\" class=\"dataframe\">\n",
       "  <thead>\n",
       "    <tr style=\"text-align: right;\">\n",
       "      <th></th>\n",
       "      <th>fixed acidity</th>\n",
       "      <th>volatile acidity</th>\n",
       "      <th>citric acid</th>\n",
       "      <th>residual sugar</th>\n",
       "      <th>chlorides</th>\n",
       "      <th>free sulfur dioxide</th>\n",
       "      <th>total sulfur dioxide</th>\n",
       "      <th>density</th>\n",
       "      <th>pH</th>\n",
       "      <th>sulphates</th>\n",
       "      <th>alcohol</th>\n",
       "      <th>quality</th>\n",
       "      <th>Unnamed: 12</th>\n",
       "    </tr>\n",
       "  </thead>\n",
       "  <tbody>\n",
       "    <tr>\n",
       "      <th>count</th>\n",
       "      <td>1599.000000</td>\n",
       "      <td>1599.000000</td>\n",
       "      <td>1599.000000</td>\n",
       "      <td>1599.000000</td>\n",
       "      <td>1599.000000</td>\n",
       "      <td>1599.000000</td>\n",
       "      <td>1599.000000</td>\n",
       "      <td>1599.000000</td>\n",
       "      <td>1599.000000</td>\n",
       "      <td>1599.000000</td>\n",
       "      <td>1599.000000</td>\n",
       "      <td>1598.000000</td>\n",
       "      <td>0.0</td>\n",
       "    </tr>\n",
       "    <tr>\n",
       "      <th>mean</th>\n",
       "      <td>8.319637</td>\n",
       "      <td>0.527821</td>\n",
       "      <td>0.270976</td>\n",
       "      <td>2.538806</td>\n",
       "      <td>0.087467</td>\n",
       "      <td>15.874922</td>\n",
       "      <td>46.467792</td>\n",
       "      <td>0.996747</td>\n",
       "      <td>3.311113</td>\n",
       "      <td>0.658149</td>\n",
       "      <td>10.422983</td>\n",
       "      <td>5.635795</td>\n",
       "      <td>NaN</td>\n",
       "    </tr>\n",
       "    <tr>\n",
       "      <th>std</th>\n",
       "      <td>1.741096</td>\n",
       "      <td>0.179060</td>\n",
       "      <td>0.194801</td>\n",
       "      <td>1.409928</td>\n",
       "      <td>0.047065</td>\n",
       "      <td>10.460157</td>\n",
       "      <td>32.895324</td>\n",
       "      <td>0.001887</td>\n",
       "      <td>0.154386</td>\n",
       "      <td>0.169507</td>\n",
       "      <td>1.065668</td>\n",
       "      <td>0.807771</td>\n",
       "      <td>NaN</td>\n",
       "    </tr>\n",
       "    <tr>\n",
       "      <th>min</th>\n",
       "      <td>4.600000</td>\n",
       "      <td>0.120000</td>\n",
       "      <td>0.000000</td>\n",
       "      <td>0.900000</td>\n",
       "      <td>0.012000</td>\n",
       "      <td>1.000000</td>\n",
       "      <td>6.000000</td>\n",
       "      <td>0.990070</td>\n",
       "      <td>2.740000</td>\n",
       "      <td>0.330000</td>\n",
       "      <td>8.400000</td>\n",
       "      <td>3.000000</td>\n",
       "      <td>NaN</td>\n",
       "    </tr>\n",
       "    <tr>\n",
       "      <th>25%</th>\n",
       "      <td>7.100000</td>\n",
       "      <td>0.390000</td>\n",
       "      <td>0.090000</td>\n",
       "      <td>1.900000</td>\n",
       "      <td>0.070000</td>\n",
       "      <td>7.000000</td>\n",
       "      <td>22.000000</td>\n",
       "      <td>0.995600</td>\n",
       "      <td>3.210000</td>\n",
       "      <td>0.550000</td>\n",
       "      <td>9.500000</td>\n",
       "      <td>5.000000</td>\n",
       "      <td>NaN</td>\n",
       "    </tr>\n",
       "    <tr>\n",
       "      <th>50%</th>\n",
       "      <td>7.900000</td>\n",
       "      <td>0.520000</td>\n",
       "      <td>0.260000</td>\n",
       "      <td>2.200000</td>\n",
       "      <td>0.079000</td>\n",
       "      <td>14.000000</td>\n",
       "      <td>38.000000</td>\n",
       "      <td>0.996750</td>\n",
       "      <td>3.310000</td>\n",
       "      <td>0.620000</td>\n",
       "      <td>10.200000</td>\n",
       "      <td>6.000000</td>\n",
       "      <td>NaN</td>\n",
       "    </tr>\n",
       "    <tr>\n",
       "      <th>75%</th>\n",
       "      <td>9.200000</td>\n",
       "      <td>0.640000</td>\n",
       "      <td>0.420000</td>\n",
       "      <td>2.600000</td>\n",
       "      <td>0.090000</td>\n",
       "      <td>21.000000</td>\n",
       "      <td>62.000000</td>\n",
       "      <td>0.997835</td>\n",
       "      <td>3.400000</td>\n",
       "      <td>0.730000</td>\n",
       "      <td>11.100000</td>\n",
       "      <td>6.000000</td>\n",
       "      <td>NaN</td>\n",
       "    </tr>\n",
       "    <tr>\n",
       "      <th>max</th>\n",
       "      <td>15.900000</td>\n",
       "      <td>1.580000</td>\n",
       "      <td>1.000000</td>\n",
       "      <td>15.500000</td>\n",
       "      <td>0.611000</td>\n",
       "      <td>72.000000</td>\n",
       "      <td>289.000000</td>\n",
       "      <td>1.003690</td>\n",
       "      <td>4.010000</td>\n",
       "      <td>2.000000</td>\n",
       "      <td>14.900000</td>\n",
       "      <td>8.000000</td>\n",
       "      <td>NaN</td>\n",
       "    </tr>\n",
       "  </tbody>\n",
       "</table>\n",
       "</div>"
      ],
      "text/plain": [
       "       fixed acidity  volatile acidity  citric acid  residual sugar  \\\n",
       "count    1599.000000       1599.000000  1599.000000     1599.000000   \n",
       "mean        8.319637          0.527821     0.270976        2.538806   \n",
       "std         1.741096          0.179060     0.194801        1.409928   \n",
       "min         4.600000          0.120000     0.000000        0.900000   \n",
       "25%         7.100000          0.390000     0.090000        1.900000   \n",
       "50%         7.900000          0.520000     0.260000        2.200000   \n",
       "75%         9.200000          0.640000     0.420000        2.600000   \n",
       "max        15.900000          1.580000     1.000000       15.500000   \n",
       "\n",
       "         chlorides  free sulfur dioxide  total sulfur dioxide      density  \\\n",
       "count  1599.000000          1599.000000           1599.000000  1599.000000   \n",
       "mean      0.087467            15.874922             46.467792     0.996747   \n",
       "std       0.047065            10.460157             32.895324     0.001887   \n",
       "min       0.012000             1.000000              6.000000     0.990070   \n",
       "25%       0.070000             7.000000             22.000000     0.995600   \n",
       "50%       0.079000            14.000000             38.000000     0.996750   \n",
       "75%       0.090000            21.000000             62.000000     0.997835   \n",
       "max       0.611000            72.000000            289.000000     1.003690   \n",
       "\n",
       "                pH    sulphates      alcohol      quality  Unnamed: 12  \n",
       "count  1599.000000  1599.000000  1599.000000  1598.000000          0.0  \n",
       "mean      3.311113     0.658149    10.422983     5.635795          NaN  \n",
       "std       0.154386     0.169507     1.065668     0.807771          NaN  \n",
       "min       2.740000     0.330000     8.400000     3.000000          NaN  \n",
       "25%       3.210000     0.550000     9.500000     5.000000          NaN  \n",
       "50%       3.310000     0.620000    10.200000     6.000000          NaN  \n",
       "75%       3.400000     0.730000    11.100000     6.000000          NaN  \n",
       "max       4.010000     2.000000    14.900000     8.000000          NaN  "
      ]
     },
     "execution_count": 5,
     "metadata": {},
     "output_type": "execute_result"
    }
   ],
   "source": [
    "df_red.describe()"
   ]
  },
  {
   "cell_type": "code",
   "execution_count": 6,
   "id": "87a84d8a",
   "metadata": {},
   "outputs": [],
   "source": [
    "df_red = df_red.drop('Unnamed: 12', axis=1)"
   ]
  },
  {
   "cell_type": "code",
   "execution_count": 7,
   "id": "88c4324f",
   "metadata": {},
   "outputs": [
    {
     "data": {
      "text/html": [
       "<div>\n",
       "<style scoped>\n",
       "    .dataframe tbody tr th:only-of-type {\n",
       "        vertical-align: middle;\n",
       "    }\n",
       "\n",
       "    .dataframe tbody tr th {\n",
       "        vertical-align: top;\n",
       "    }\n",
       "\n",
       "    .dataframe thead th {\n",
       "        text-align: right;\n",
       "    }\n",
       "</style>\n",
       "<table border=\"1\" class=\"dataframe\">\n",
       "  <thead>\n",
       "    <tr style=\"text-align: right;\">\n",
       "      <th></th>\n",
       "      <th>fixed acidity</th>\n",
       "      <th>volatile acidity</th>\n",
       "      <th>citric acid</th>\n",
       "      <th>residual sugar</th>\n",
       "      <th>chlorides</th>\n",
       "      <th>free sulfur dioxide</th>\n",
       "      <th>total sulfur dioxide</th>\n",
       "      <th>density</th>\n",
       "      <th>pH</th>\n",
       "      <th>sulphates</th>\n",
       "      <th>alcohol</th>\n",
       "      <th>quality</th>\n",
       "    </tr>\n",
       "  </thead>\n",
       "  <tbody>\n",
       "    <tr>\n",
       "      <th>count</th>\n",
       "      <td>4898.000000</td>\n",
       "      <td>4898.000000</td>\n",
       "      <td>4898.000000</td>\n",
       "      <td>4898.000000</td>\n",
       "      <td>4898.000000</td>\n",
       "      <td>4898.000000</td>\n",
       "      <td>4898.000000</td>\n",
       "      <td>4898.000000</td>\n",
       "      <td>4898.000000</td>\n",
       "      <td>4898.000000</td>\n",
       "      <td>4898.000000</td>\n",
       "      <td>4898.000000</td>\n",
       "    </tr>\n",
       "    <tr>\n",
       "      <th>mean</th>\n",
       "      <td>6.854788</td>\n",
       "      <td>0.278241</td>\n",
       "      <td>0.334192</td>\n",
       "      <td>6.391415</td>\n",
       "      <td>0.045772</td>\n",
       "      <td>35.308085</td>\n",
       "      <td>138.360657</td>\n",
       "      <td>0.994027</td>\n",
       "      <td>3.188267</td>\n",
       "      <td>0.489847</td>\n",
       "      <td>10.514267</td>\n",
       "      <td>5.877909</td>\n",
       "    </tr>\n",
       "    <tr>\n",
       "      <th>std</th>\n",
       "      <td>0.843868</td>\n",
       "      <td>0.100795</td>\n",
       "      <td>0.121020</td>\n",
       "      <td>5.072058</td>\n",
       "      <td>0.021848</td>\n",
       "      <td>17.007137</td>\n",
       "      <td>42.498065</td>\n",
       "      <td>0.002991</td>\n",
       "      <td>0.151001</td>\n",
       "      <td>0.114126</td>\n",
       "      <td>1.230621</td>\n",
       "      <td>0.885639</td>\n",
       "    </tr>\n",
       "    <tr>\n",
       "      <th>min</th>\n",
       "      <td>3.800000</td>\n",
       "      <td>0.080000</td>\n",
       "      <td>0.000000</td>\n",
       "      <td>0.600000</td>\n",
       "      <td>0.009000</td>\n",
       "      <td>2.000000</td>\n",
       "      <td>9.000000</td>\n",
       "      <td>0.987110</td>\n",
       "      <td>2.720000</td>\n",
       "      <td>0.220000</td>\n",
       "      <td>8.000000</td>\n",
       "      <td>3.000000</td>\n",
       "    </tr>\n",
       "    <tr>\n",
       "      <th>25%</th>\n",
       "      <td>6.300000</td>\n",
       "      <td>0.210000</td>\n",
       "      <td>0.270000</td>\n",
       "      <td>1.700000</td>\n",
       "      <td>0.036000</td>\n",
       "      <td>23.000000</td>\n",
       "      <td>108.000000</td>\n",
       "      <td>0.991723</td>\n",
       "      <td>3.090000</td>\n",
       "      <td>0.410000</td>\n",
       "      <td>9.500000</td>\n",
       "      <td>5.000000</td>\n",
       "    </tr>\n",
       "    <tr>\n",
       "      <th>50%</th>\n",
       "      <td>6.800000</td>\n",
       "      <td>0.260000</td>\n",
       "      <td>0.320000</td>\n",
       "      <td>5.200000</td>\n",
       "      <td>0.043000</td>\n",
       "      <td>34.000000</td>\n",
       "      <td>134.000000</td>\n",
       "      <td>0.993740</td>\n",
       "      <td>3.180000</td>\n",
       "      <td>0.470000</td>\n",
       "      <td>10.400000</td>\n",
       "      <td>6.000000</td>\n",
       "    </tr>\n",
       "    <tr>\n",
       "      <th>75%</th>\n",
       "      <td>7.300000</td>\n",
       "      <td>0.320000</td>\n",
       "      <td>0.390000</td>\n",
       "      <td>9.900000</td>\n",
       "      <td>0.050000</td>\n",
       "      <td>46.000000</td>\n",
       "      <td>167.000000</td>\n",
       "      <td>0.996100</td>\n",
       "      <td>3.280000</td>\n",
       "      <td>0.550000</td>\n",
       "      <td>11.400000</td>\n",
       "      <td>6.000000</td>\n",
       "    </tr>\n",
       "    <tr>\n",
       "      <th>max</th>\n",
       "      <td>14.200000</td>\n",
       "      <td>1.100000</td>\n",
       "      <td>1.660000</td>\n",
       "      <td>65.800000</td>\n",
       "      <td>0.346000</td>\n",
       "      <td>289.000000</td>\n",
       "      <td>440.000000</td>\n",
       "      <td>1.038980</td>\n",
       "      <td>3.820000</td>\n",
       "      <td>1.080000</td>\n",
       "      <td>14.200000</td>\n",
       "      <td>9.000000</td>\n",
       "    </tr>\n",
       "  </tbody>\n",
       "</table>\n",
       "</div>"
      ],
      "text/plain": [
       "       fixed acidity  volatile acidity  citric acid  residual sugar  \\\n",
       "count    4898.000000       4898.000000  4898.000000     4898.000000   \n",
       "mean        6.854788          0.278241     0.334192        6.391415   \n",
       "std         0.843868          0.100795     0.121020        5.072058   \n",
       "min         3.800000          0.080000     0.000000        0.600000   \n",
       "25%         6.300000          0.210000     0.270000        1.700000   \n",
       "50%         6.800000          0.260000     0.320000        5.200000   \n",
       "75%         7.300000          0.320000     0.390000        9.900000   \n",
       "max        14.200000          1.100000     1.660000       65.800000   \n",
       "\n",
       "         chlorides  free sulfur dioxide  total sulfur dioxide      density  \\\n",
       "count  4898.000000          4898.000000           4898.000000  4898.000000   \n",
       "mean      0.045772            35.308085            138.360657     0.994027   \n",
       "std       0.021848            17.007137             42.498065     0.002991   \n",
       "min       0.009000             2.000000              9.000000     0.987110   \n",
       "25%       0.036000            23.000000            108.000000     0.991723   \n",
       "50%       0.043000            34.000000            134.000000     0.993740   \n",
       "75%       0.050000            46.000000            167.000000     0.996100   \n",
       "max       0.346000           289.000000            440.000000     1.038980   \n",
       "\n",
       "                pH    sulphates      alcohol      quality  \n",
       "count  4898.000000  4898.000000  4898.000000  4898.000000  \n",
       "mean      3.188267     0.489847    10.514267     5.877909  \n",
       "std       0.151001     0.114126     1.230621     0.885639  \n",
       "min       2.720000     0.220000     8.000000     3.000000  \n",
       "25%       3.090000     0.410000     9.500000     5.000000  \n",
       "50%       3.180000     0.470000    10.400000     6.000000  \n",
       "75%       3.280000     0.550000    11.400000     6.000000  \n",
       "max       3.820000     1.080000    14.200000     9.000000  "
      ]
     },
     "execution_count": 7,
     "metadata": {},
     "output_type": "execute_result"
    }
   ],
   "source": [
    "df_white.describe()"
   ]
  },
  {
   "attachments": {},
   "cell_type": "markdown",
   "id": "6cfe4919",
   "metadata": {
    "papermill": {
     "duration": 0.023267,
     "end_time": "2021-08-17T14:05:52.733758",
     "exception": false,
     "start_time": "2021-08-17T14:05:52.710491",
     "status": "completed"
    },
    "tags": []
   },
   "source": [
    "# checking out any missing value"
   ]
  },
  {
   "cell_type": "code",
   "execution_count": 8,
   "id": "2390ada6",
   "metadata": {
    "execution": {
     "iopub.execute_input": "2021-08-17T14:05:52.790705Z",
     "iopub.status.busy": "2021-08-17T14:05:52.789699Z",
     "iopub.status.idle": "2021-08-17T14:05:52.816713Z",
     "shell.execute_reply": "2021-08-17T14:05:52.815929Z",
     "shell.execute_reply.started": "2021-08-17T13:59:09.762110Z"
    },
    "papermill": {
     "duration": 0.057878,
     "end_time": "2021-08-17T14:05:52.816889",
     "exception": false,
     "start_time": "2021-08-17T14:05:52.759011",
     "status": "completed"
    },
    "tags": []
   },
   "outputs": [
    {
     "data": {
      "text/plain": [
       "fixed acidity           0\n",
       "volatile acidity        0\n",
       "citric acid             0\n",
       "residual sugar          0\n",
       "chlorides               0\n",
       "free sulfur dioxide     0\n",
       "total sulfur dioxide    0\n",
       "density                 0\n",
       "pH                      0\n",
       "sulphates               0\n",
       "alcohol                 0\n",
       "quality                 1\n",
       "dtype: int64"
      ]
     },
     "execution_count": 8,
     "metadata": {},
     "output_type": "execute_result"
    }
   ],
   "source": [
    "df_red.isnull().sum()\n"
   ]
  },
  {
   "cell_type": "code",
   "execution_count": 9,
   "id": "6780d020",
   "metadata": {
    "execution": {
     "iopub.execute_input": "2021-08-17T14:05:52.872499Z",
     "iopub.status.busy": "2021-08-17T14:05:52.871693Z",
     "iopub.status.idle": "2021-08-17T14:05:52.886644Z",
     "shell.execute_reply": "2021-08-17T14:05:52.885950Z",
     "shell.execute_reply.started": "2021-08-17T13:59:16.804840Z"
    },
    "papermill": {
     "duration": 0.045173,
     "end_time": "2021-08-17T14:05:52.886823",
     "exception": false,
     "start_time": "2021-08-17T14:05:52.841650",
     "status": "completed"
    },
    "tags": []
   },
   "outputs": [
    {
     "data": {
      "text/plain": [
       "fixed acidity           0\n",
       "volatile acidity        0\n",
       "citric acid             0\n",
       "residual sugar          0\n",
       "chlorides               0\n",
       "free sulfur dioxide     0\n",
       "total sulfur dioxide    0\n",
       "density                 0\n",
       "pH                      0\n",
       "sulphates               0\n",
       "alcohol                 0\n",
       "quality                 0\n",
       "dtype: int64"
      ]
     },
     "execution_count": 9,
     "metadata": {},
     "output_type": "execute_result"
    }
   ],
   "source": [
    "df_white.isnull().sum()"
   ]
  },
  {
   "attachments": {},
   "cell_type": "markdown",
   "id": "c74ca9b9",
   "metadata": {},
   "source": [
    "# Concatenating both datasets together on their type 0(white) and 1(red)"
   ]
  },
  {
   "cell_type": "code",
   "execution_count": 10,
   "id": "4d4e4e05",
   "metadata": {},
   "outputs": [],
   "source": [
    "df_red['type'] = '1'\n",
    "df_white['type'] = '0'"
   ]
  },
  {
   "cell_type": "code",
   "execution_count": 11,
   "id": "0fcdc44c",
   "metadata": {},
   "outputs": [],
   "source": [
    "df = pd.concat([df_red, df_white], axis=0)"
   ]
  },
  {
   "attachments": {},
   "cell_type": "markdown",
   "id": "c735b168",
   "metadata": {
    "papermill": {
     "duration": 0.023622,
     "end_time": "2021-08-17T14:05:52.934660",
     "exception": false,
     "start_time": "2021-08-17T14:05:52.911038",
     "status": "completed"
    },
    "tags": []
   },
   "source": [
    "# Visualization"
   ]
  },
  {
   "cell_type": "code",
   "execution_count": 12,
   "id": "3d442827",
   "metadata": {
    "execution": {
     "iopub.execute_input": "2021-08-17T14:05:52.989252Z",
     "iopub.status.busy": "2021-08-17T14:05:52.988401Z",
     "iopub.status.idle": "2021-08-17T14:05:52.994176Z",
     "shell.execute_reply": "2021-08-17T14:05:52.993494Z",
     "shell.execute_reply.started": "2021-08-17T13:59:39.104964Z"
    },
    "papermill": {
     "duration": 0.035715,
     "end_time": "2021-08-17T14:05:52.994325",
     "exception": false,
     "start_time": "2021-08-17T14:05:52.958610",
     "status": "completed"
    },
    "tags": []
   },
   "outputs": [
    {
     "data": {
      "text/plain": [
       "array(['1', '0'], dtype=object)"
      ]
     },
     "execution_count": 12,
     "metadata": {},
     "output_type": "execute_result"
    }
   ],
   "source": [
    "#show all type of winery\n",
    "df['type'].unique()"
   ]
  },
  {
   "cell_type": "code",
   "execution_count": 13,
   "id": "bb03afb2",
   "metadata": {},
   "outputs": [
    {
     "data": {
      "text/plain": [
       "fixed acidity           float64\n",
       "volatile acidity        float64\n",
       "citric acid             float64\n",
       "residual sugar          float64\n",
       "chlorides               float64\n",
       "free sulfur dioxide     float64\n",
       "total sulfur dioxide    float64\n",
       "density                 float64\n",
       "pH                      float64\n",
       "sulphates               float64\n",
       "alcohol                 float64\n",
       "quality                 float64\n",
       "type                     object\n",
       "dtype: object"
      ]
     },
     "execution_count": 13,
     "metadata": {},
     "output_type": "execute_result"
    }
   ],
   "source": [
    "#column data types\n",
    "df.dtypes"
   ]
  },
  {
   "cell_type": "code",
   "execution_count": 14,
   "id": "95ada810",
   "metadata": {},
   "outputs": [],
   "source": [
    "#convert suplhates to float\n",
    "df['sulphates'] = df['sulphates'].astype(float)"
   ]
  },
  {
   "cell_type": "code",
   "execution_count": 15,
   "id": "c1763100",
   "metadata": {
    "execution": {
     "iopub.execute_input": "2021-08-17T14:05:53.058914Z",
     "iopub.status.busy": "2021-08-17T14:05:53.058245Z",
     "iopub.status.idle": "2021-08-17T14:05:53.206807Z",
     "shell.execute_reply": "2021-08-17T14:05:53.205819Z",
     "shell.execute_reply.started": "2021-08-17T14:00:50.113314Z"
    },
    "papermill": {
     "duration": 0.188127,
     "end_time": "2021-08-17T14:05:53.206964",
     "exception": false,
     "start_time": "2021-08-17T14:05:53.018837",
     "status": "completed"
    },
    "tags": []
   },
   "outputs": [
    {
     "data": {
      "image/png": "[encoded data removed]",
      "text/plain": [
       "<Figure size 1000x700 with 1 Axes>"
      ]
     },
     "metadata": {},
     "output_type": "display_data"
    }
   ],
   "source": [
    "# plot histogram of type\n",
    "plt.figure(figsize=(10,7))\n",
    "sns.countplot(x='type', data=df, palette='hls')\n",
    "plt.show()"
   ]
  },
  {
   "cell_type": "code",
   "execution_count": 16,
   "id": "7c970d8d",
   "metadata": {
    "execution": {
     "iopub.execute_input": "2021-08-17T14:05:53.265382Z",
     "iopub.status.busy": "2021-08-17T14:05:53.264531Z",
     "iopub.status.idle": "2021-08-17T14:05:53.682103Z",
     "shell.execute_reply": "2021-08-17T14:05:53.681397Z",
     "shell.execute_reply.started": "2021-08-17T14:01:04.935158Z"
    },
    "papermill": {
     "duration": 0.450112,
     "end_time": "2021-08-17T14:05:53.682256",
     "exception": false,
     "start_time": "2021-08-17T14:05:53.232144",
     "status": "completed"
    },
    "tags": []
   },
   "outputs": [
    {
     "data": {
      "image/png": "[encoded data removed]",
      "text/plain": [
       "<Figure size 1000x500 with 2 Axes>"
      ]
     },
     "metadata": {},
     "output_type": "display_data"
    }
   ],
   "source": [
    "# correlation\n",
    "plt.figure(figsize=(10,5))\n",
    "sns.heatmap(df.corr(),cmap='coolwarm')\n",
    "plt.show()"
   ]
  },
  {
   "cell_type": "code",
   "execution_count": 17,
   "id": "81293f92",
   "metadata": {
    "execution": {
     "iopub.execute_input": "2021-08-17T14:05:53.738057Z",
     "iopub.status.busy": "2021-08-17T14:05:53.737405Z",
     "iopub.status.idle": "2021-08-17T14:05:53.908755Z",
     "shell.execute_reply": "2021-08-17T14:05:53.908183Z",
     "shell.execute_reply.started": "2021-08-17T14:02:05.168388Z"
    },
    "papermill": {
     "duration": 0.200128,
     "end_time": "2021-08-17T14:05:53.908897",
     "exception": false,
     "start_time": "2021-08-17T14:05:53.708769",
     "status": "completed"
    },
    "tags": []
   },
   "outputs": [
    {
     "data": {
      "text/plain": [
       "<Axes: xlabel='quality', ylabel='count'>"
      ]
     },
     "execution_count": 17,
     "metadata": {},
     "output_type": "execute_result"
    },
    {
     "data": {
      "image/png": "[encoded data removed]",
      "text/plain": [
       "<Figure size 500x300 with 1 Axes>"
      ]
     },
     "metadata": {},
     "output_type": "display_data"
    }
   ],
   "source": [
    "#ploting countplot quality \n",
    "plt.figure(figsize=(5,3))\n",
    "sns.countplot(x='quality',data=df)"
   ]
  },
  {
   "cell_type": "code",
   "execution_count": 18,
   "id": "08e4be00",
   "metadata": {
    "execution": {
     "iopub.execute_input": "2021-08-17T14:05:53.969465Z",
     "iopub.status.busy": "2021-08-17T14:05:53.968767Z",
     "iopub.status.idle": "2021-08-17T14:05:53.993068Z",
     "shell.execute_reply": "2021-08-17T14:05:53.992431Z",
     "shell.execute_reply.started": "2021-08-17T14:01:47.767440Z"
    },
    "papermill": {
     "duration": 0.057103,
     "end_time": "2021-08-17T14:05:53.993233",
     "exception": false,
     "start_time": "2021-08-17T14:05:53.936130",
     "status": "completed"
    },
    "tags": []
   },
   "outputs": [
    {
     "data": {
      "text/html": [
       "<div>\n",
       "<style scoped>\n",
       "    .dataframe tbody tr th:only-of-type {\n",
       "        vertical-align: middle;\n",
       "    }\n",
       "\n",
       "    .dataframe tbody tr th {\n",
       "        vertical-align: top;\n",
       "    }\n",
       "\n",
       "    .dataframe thead th {\n",
       "        text-align: right;\n",
       "    }\n",
       "</style>\n",
       "<table border=\"1\" class=\"dataframe\">\n",
       "  <thead>\n",
       "    <tr style=\"text-align: right;\">\n",
       "      <th></th>\n",
       "      <th>fixed acidity</th>\n",
       "      <th>volatile acidity</th>\n",
       "      <th>citric acid</th>\n",
       "      <th>residual sugar</th>\n",
       "      <th>chlorides</th>\n",
       "      <th>free sulfur dioxide</th>\n",
       "      <th>total sulfur dioxide</th>\n",
       "      <th>density</th>\n",
       "      <th>pH</th>\n",
       "      <th>sulphates</th>\n",
       "      <th>alcohol</th>\n",
       "      <th>quality</th>\n",
       "      <th>type</th>\n",
       "    </tr>\n",
       "  </thead>\n",
       "  <tbody>\n",
       "    <tr>\n",
       "      <th>0</th>\n",
       "      <td>7.4</td>\n",
       "      <td>0.70</td>\n",
       "      <td>0.00</td>\n",
       "      <td>1.9</td>\n",
       "      <td>0.076</td>\n",
       "      <td>11.0</td>\n",
       "      <td>34.0</td>\n",
       "      <td>0.9978</td>\n",
       "      <td>3.51</td>\n",
       "      <td>0.56</td>\n",
       "      <td>9.4</td>\n",
       "      <td>5.0</td>\n",
       "      <td>True</td>\n",
       "    </tr>\n",
       "    <tr>\n",
       "      <th>1</th>\n",
       "      <td>7.8</td>\n",
       "      <td>0.88</td>\n",
       "      <td>0.00</td>\n",
       "      <td>2.6</td>\n",
       "      <td>0.098</td>\n",
       "      <td>25.0</td>\n",
       "      <td>67.0</td>\n",
       "      <td>0.9968</td>\n",
       "      <td>3.20</td>\n",
       "      <td>0.68</td>\n",
       "      <td>9.8</td>\n",
       "      <td>5.0</td>\n",
       "      <td>True</td>\n",
       "    </tr>\n",
       "    <tr>\n",
       "      <th>2</th>\n",
       "      <td>7.8</td>\n",
       "      <td>0.76</td>\n",
       "      <td>0.04</td>\n",
       "      <td>2.3</td>\n",
       "      <td>0.092</td>\n",
       "      <td>15.0</td>\n",
       "      <td>54.0</td>\n",
       "      <td>0.9970</td>\n",
       "      <td>3.26</td>\n",
       "      <td>0.65</td>\n",
       "      <td>9.8</td>\n",
       "      <td>5.0</td>\n",
       "      <td>True</td>\n",
       "    </tr>\n",
       "    <tr>\n",
       "      <th>3</th>\n",
       "      <td>11.2</td>\n",
       "      <td>0.28</td>\n",
       "      <td>0.56</td>\n",
       "      <td>1.9</td>\n",
       "      <td>0.075</td>\n",
       "      <td>17.0</td>\n",
       "      <td>60.0</td>\n",
       "      <td>0.9980</td>\n",
       "      <td>3.16</td>\n",
       "      <td>0.58</td>\n",
       "      <td>9.8</td>\n",
       "      <td>6.0</td>\n",
       "      <td>True</td>\n",
       "    </tr>\n",
       "    <tr>\n",
       "      <th>4</th>\n",
       "      <td>7.4</td>\n",
       "      <td>0.70</td>\n",
       "      <td>0.00</td>\n",
       "      <td>1.9</td>\n",
       "      <td>0.076</td>\n",
       "      <td>11.0</td>\n",
       "      <td>34.0</td>\n",
       "      <td>0.9978</td>\n",
       "      <td>3.51</td>\n",
       "      <td>0.56</td>\n",
       "      <td>9.4</td>\n",
       "      <td>5.0</td>\n",
       "      <td>True</td>\n",
       "    </tr>\n",
       "  </tbody>\n",
       "</table>\n",
       "</div>"
      ],
      "text/plain": [
       "   fixed acidity  volatile acidity  citric acid  residual sugar  chlorides  \\\n",
       "0            7.4              0.70         0.00             1.9      0.076   \n",
       "1            7.8              0.88         0.00             2.6      0.098   \n",
       "2            7.8              0.76         0.04             2.3      0.092   \n",
       "3           11.2              0.28         0.56             1.9      0.075   \n",
       "4            7.4              0.70         0.00             1.9      0.076   \n",
       "\n",
       "   free sulfur dioxide  total sulfur dioxide  density    pH  sulphates  \\\n",
       "0                 11.0                  34.0   0.9978  3.51       0.56   \n",
       "1                 25.0                  67.0   0.9968  3.20       0.68   \n",
       "2                 15.0                  54.0   0.9970  3.26       0.65   \n",
       "3                 17.0                  60.0   0.9980  3.16       0.58   \n",
       "4                 11.0                  34.0   0.9978  3.51       0.56   \n",
       "\n",
       "   alcohol  quality  type  \n",
       "0      9.4      5.0  True  \n",
       "1      9.8      5.0  True  \n",
       "2      9.8      5.0  True  \n",
       "3      9.8      6.0  True  \n",
       "4      9.4      5.0  True  "
      ]
     },
     "execution_count": 18,
     "metadata": {},
     "output_type": "execute_result"
    }
   ],
   "source": [
    "#converting categorical to numerical\n",
    "df['type']=pd.get_dummies(df['type'],drop_first=True)\n",
    "df.head()"
   ]
  },
  {
   "attachments": {},
   "cell_type": "markdown",
   "id": "2fa4296a",
   "metadata": {},
   "source": [
    "# Train Model (CLASSIFICATION)"
   ]
  },
  {
   "cell_type": "code",
   "execution_count": 19,
   "id": "499d381c",
   "metadata": {
    "execution": {
     "iopub.execute_input": "2021-08-17T14:05:54.110240Z",
     "iopub.status.busy": "2021-08-17T14:05:54.109368Z",
     "iopub.status.idle": "2021-08-17T14:05:54.252611Z",
     "shell.execute_reply": "2021-08-17T14:05:54.251593Z",
     "shell.execute_reply.started": "2021-08-17T14:02:40.651016Z"
    },
    "papermill": {
     "duration": 0.176272,
     "end_time": "2021-08-17T14:05:54.252764",
     "exception": false,
     "start_time": "2021-08-17T14:05:54.076492",
     "status": "completed"
    },
    "tags": []
   },
   "outputs": [
    {
     "data": {
      "text/html": [
       "<style>#sk-container-id-1 {color: black;background-color: white;}#sk-container-id-1 pre{padding: 0;}#sk-container-id-1 div.sk-toggleable {background-color: white;}#sk-container-id-1 label.sk-toggleable__label {cursor: pointer;display: block;width: 100%;margin-bottom: 0;padding: 0.3em;box-sizing: border-box;text-align: center;}#sk-container-id-1 label.sk-toggleable__label-arrow:before {content: \"▸\";float: left;margin-right: 0.25em;color: #696969;}#sk-container-id-1 label.sk-toggleable__label-arrow:hover:before {color: black;}#sk-container-id-1 div.sk-estimator:hover label.sk-toggleable__label-arrow:before {color: black;}#sk-container-id-1 div.sk-toggleable__content {max-height: 0;max-width: 0;overflow: hidden;text-align: left;background-color: #f0f8ff;}#sk-container-id-1 div.sk-toggleable__content pre {margin: 0.2em;color: black;border-radius: 0.25em;background-color: #f0f8ff;}#sk-container-id-1 input.sk-toggleable__control:checked~div.sk-toggleable__content {max-height: 200px;max-width: 100%;overflow: auto;}#sk-container-id-1 input.sk-toggleable__control:checked~label.sk-toggleable__label-arrow:before {content: \"▾\";}#sk-container-id-1 div.sk-estimator input.sk-toggleable__control:checked~label.sk-toggleable__label {background-color: #d4ebff;}#sk-container-id-1 div.sk-label input.sk-toggleable__control:checked~label.sk-toggleable__label {background-color: #d4ebff;}#sk-container-id-1 input.sk-hidden--visually {border: 0;clip: rect(1px 1px 1px 1px);clip: rect(1px, 1px, 1px, 1px);height: 1px;margin: -1px;overflow: hidden;padding: 0;position: absolute;width: 1px;}#sk-container-id-1 div.sk-estimator {font-family: monospace;background-color: #f0f8ff;border: 1px dotted black;border-radius: 0.25em;box-sizing: border-box;margin-bottom: 0.5em;}#sk-container-id-1 div.sk-estimator:hover {background-color: #d4ebff;}#sk-container-id-1 div.sk-parallel-item::after {content: \"\";width: 100%;border-bottom: 1px solid gray;flex-grow: 1;}#sk-container-id-1 div.sk-label:hover label.sk-toggleable__label {background-color: #d4ebff;}#sk-container-id-1 div.sk-serial::before {content: \"\";position: absolute;border-left: 1px solid gray;box-sizing: border-box;top: 0;bottom: 0;left: 50%;z-index: 0;}#sk-container-id-1 div.sk-serial {display: flex;flex-direction: column;align-items: center;background-color: white;padding-right: 0.2em;padding-left: 0.2em;position: relative;}#sk-container-id-1 div.sk-item {position: relative;z-index: 1;}#sk-container-id-1 div.sk-parallel {display: flex;align-items: stretch;justify-content: center;background-color: white;position: relative;}#sk-container-id-1 div.sk-item::before, #sk-container-id-1 div.sk-parallel-item::before {content: \"\";position: absolute;border-left: 1px solid gray;box-sizing: border-box;top: 0;bottom: 0;left: 50%;z-index: -1;}#sk-container-id-1 div.sk-parallel-item {display: flex;flex-direction: column;z-index: 1;position: relative;background-color: white;}#sk-container-id-1 div.sk-parallel-item:first-child::after {align-self: flex-end;width: 50%;}#sk-container-id-1 div.sk-parallel-item:last-child::after {align-self: flex-start;width: 50%;}#sk-container-id-1 div.sk-parallel-item:only-child::after {width: 0;}#sk-container-id-1 div.sk-dashed-wrapped {border: 1px dashed gray;margin: 0 0.4em 0.5em 0.4em;box-sizing: border-box;padding-bottom: 0.4em;background-color: white;}#sk-container-id-1 div.sk-label label {font-family: monospace;font-weight: bold;display: inline-block;line-height: 1.2em;}#sk-container-id-1 div.sk-label-container {text-align: center;}#sk-container-id-1 div.sk-container {/* jupyter's `normalize.less` sets `[hidden] { display: none; }` but bootstrap.min.css set `[hidden] { display: none !important; }` so we also need the `!important` here to be able to override the default hidden behavior on the sphinx rendered scikit-learn.org. See: https://github.com/scikit-learn/scikit-learn/issues/21755 */display: inline-block !important;position: relative;}#sk-container-id-1 div.sk-text-repr-fallback {display: none;}</style><div id=\"sk-container-id-1\" class=\"sk-top-container\"><div class=\"sk-text-repr-fallback\"><pre>StandardScaler()</pre><b>In a Jupyter environment, please rerun this cell to show the HTML representation or trust the notebook. <br />On GitHub, the HTML representation is unable to render, please try loading this page with nbviewer.org.</b></div><div class=\"sk-container\" hidden><div class=\"sk-item\"><div class=\"sk-estimator sk-toggleable\"><input class=\"sk-toggleable__control sk-hidden--visually\" id=\"sk-estimator-id-1\" type=\"checkbox\" checked><label for=\"sk-estimator-id-1\" class=\"sk-toggleable__label sk-toggleable__label-arrow\">StandardScaler</label><div class=\"sk-toggleable__content\"><pre>StandardScaler()</pre></div></div></div></div></div>"
      ],
      "text/plain": [
       "StandardScaler()"
      ]
     },
     "execution_count": 19,
     "metadata": {},
     "output_type": "execute_result"
    }
   ],
   "source": [
    "#standardize the data\n",
    "from sklearn.preprocessing import StandardScaler\n",
    "scaler = StandardScaler()\n",
    "scaler.fit(df.drop('quality',axis=1))"
   ]
  },
  {
   "cell_type": "code",
   "execution_count": 20,
   "id": "012d31e7",
   "metadata": {
    "execution": {
     "iopub.execute_input": "2021-08-17T14:05:54.314676Z",
     "iopub.status.busy": "2021-08-17T14:05:54.313834Z",
     "iopub.status.idle": "2021-08-17T14:05:54.374777Z",
     "shell.execute_reply": "2021-08-17T14:05:54.374188Z",
     "shell.execute_reply.started": "2021-08-17T14:02:49.184738Z"
    },
    "papermill": {
     "duration": 0.094164,
     "end_time": "2021-08-17T14:05:54.374925",
     "exception": false,
     "start_time": "2021-08-17T14:05:54.280761",
     "status": "completed"
    },
    "tags": []
   },
   "outputs": [],
   "source": [
    "# start with modelling\n",
    "# split data into train and test\n",
    "from sklearn.model_selection import train_test_split\n",
    "X=df.drop('quality',axis=1)\n",
    "y=df['quality']\n",
    "X_train,X_test,y_train,y_test=train_test_split(X,y,test_size=0.3,random_state=101)"
   ]
  },
  {
   "cell_type": "code",
   "execution_count": 21,
   "id": "1f1da626",
   "metadata": {},
   "outputs": [
    {
     "data": {
      "text/plain": [
       "1"
      ]
     },
     "execution_count": 21,
     "metadata": {},
     "output_type": "execute_result"
    }
   ],
   "source": [
    "y_train.isnull().sum()"
   ]
  },
  {
   "cell_type": "code",
   "execution_count": 22,
   "id": "e47ca7fd",
   "metadata": {},
   "outputs": [],
   "source": [
    "#fill null values with 0\n",
    "y_train.fillna(0,inplace=True)"
   ]
  },
  {
   "cell_type": "code",
   "execution_count": 23,
   "id": "cd9f9ce1",
   "metadata": {
    "execution": {
     "iopub.execute_input": "2021-08-17T14:05:54.826266Z",
     "iopub.status.busy": "2021-08-17T14:05:54.825511Z",
     "iopub.status.idle": "2021-08-17T14:05:56.554493Z",
     "shell.execute_reply": "2021-08-17T14:05:56.555067Z",
     "shell.execute_reply.started": "2021-08-17T14:03:02.310883Z"
    },
    "papermill": {
     "duration": 1.78963,
     "end_time": "2021-08-17T14:05:56.555268",
     "exception": false,
     "start_time": "2021-08-17T14:05:54.765638",
     "status": "completed"
    },
    "tags": []
   },
   "outputs": [],
   "source": [
    "#svm\n",
    "from sklearn.svm import SVC\n",
    "svm=SVC()\n",
    "svm.fit(X_train,y_train)\n",
    "svm=svm.score(X_test,y_test)"
   ]
  },
  {
   "cell_type": "code",
   "execution_count": 24,
   "id": "2ed49c2a",
   "metadata": {
    "execution": {
     "iopub.execute_input": "2021-08-17T14:05:56.618150Z",
     "iopub.status.busy": "2021-08-17T14:05:56.617349Z",
     "iopub.status.idle": "2021-08-17T14:05:57.986837Z",
     "shell.execute_reply": "2021-08-17T14:05:57.986208Z",
     "shell.execute_reply.started": "2021-08-17T14:03:09.227178Z"
    },
    "papermill": {
     "duration": 1.402571,
     "end_time": "2021-08-17T14:05:57.986988",
     "exception": false,
     "start_time": "2021-08-17T14:05:56.584417",
     "status": "completed"
    },
    "tags": []
   },
   "outputs": [],
   "source": [
    "# random forest\n",
    "from sklearn.ensemble import RandomForestClassifier\n",
    "rf=RandomForestClassifier(n_estimators=100)\n",
    "rf.fit(X_train,y_train)\n",
    "rf=rf.score(X_test,y_test)"
   ]
  },
  {
   "cell_type": "code",
   "execution_count": 25,
   "id": "218bcda3",
   "metadata": {
    "execution": {
     "iopub.execute_input": "2021-08-17T14:05:58.052218Z",
     "iopub.status.busy": "2021-08-17T14:05:58.051105Z",
     "iopub.status.idle": "2021-08-17T14:05:58.148719Z",
     "shell.execute_reply": "2021-08-17T14:05:58.149238Z",
     "shell.execute_reply.started": "2021-08-17T14:03:16.835461Z"
    },
    "papermill": {
     "duration": 0.134387,
     "end_time": "2021-08-17T14:05:58.149437",
     "exception": false,
     "start_time": "2021-08-17T14:05:58.015050",
     "status": "completed"
    },
    "tags": []
   },
   "outputs": [],
   "source": [
    "# knn\n",
    "from sklearn.neighbors import KNeighborsClassifier\n",
    "knn=KNeighborsClassifier(n_neighbors=5)\n",
    "knn.fit(X_train,y_train)\n",
    "knn=knn.score(X_test,y_test)"
   ]
  },
  {
   "cell_type": "code",
   "execution_count": 26,
   "id": "c254d034",
   "metadata": {
    "execution": {
     "iopub.execute_input": "2021-08-17T14:05:58.209131Z",
     "iopub.status.busy": "2021-08-17T14:05:58.208132Z",
     "iopub.status.idle": "2021-08-17T14:05:58.267790Z",
     "shell.execute_reply": "2021-08-17T14:05:58.267173Z",
     "shell.execute_reply.started": "2021-08-17T14:03:24.695096Z"
    },
    "papermill": {
     "duration": 0.090495,
     "end_time": "2021-08-17T14:05:58.267932",
     "exception": false,
     "start_time": "2021-08-17T14:05:58.177437",
     "status": "completed"
    },
    "tags": []
   },
   "outputs": [],
   "source": [
    "# decision tree\n",
    "from sklearn.tree import DecisionTreeClassifier\n",
    "dt=DecisionTreeClassifier()\n",
    "dt.fit(X_train,y_train)\n",
    "dt=dt.score(X_test,y_test)"
   ]
  },
  {
   "cell_type": "code",
   "execution_count": 27,
   "id": "392817b5",
   "metadata": {
    "execution": {
     "iopub.execute_input": "2021-08-17T14:05:58.329486Z",
     "iopub.status.busy": "2021-08-17T14:05:58.328430Z",
     "iopub.status.idle": "2021-08-17T14:05:58.342798Z",
     "shell.execute_reply": "2021-08-17T14:05:58.342237Z",
     "shell.execute_reply.started": "2021-08-17T14:03:31.080828Z"
    },
    "papermill": {
     "duration": 0.046886,
     "end_time": "2021-08-17T14:05:58.343142",
     "exception": false,
     "start_time": "2021-08-17T14:05:58.296256",
     "status": "completed"
    },
    "tags": []
   },
   "outputs": [],
   "source": [
    "# naive bayes\n",
    "from sklearn.naive_bayes import GaussianNB\n",
    "nb=GaussianNB()\n",
    "nb.fit(X_train,y_train)\n",
    "nb=nb.score(X_test,y_test)"
   ]
  },
  {
   "cell_type": "code",
   "execution_count": 28,
   "id": "5ec53f9e",
   "metadata": {
    "execution": {
     "iopub.execute_input": "2021-08-17T14:05:58.408100Z",
     "iopub.status.busy": "2021-08-17T14:05:58.407054Z",
     "iopub.status.idle": "2021-08-17T14:05:58.410422Z",
     "shell.execute_reply": "2021-08-17T14:05:58.409887Z",
     "shell.execute_reply.started": "2021-08-17T14:03:38.446974Z"
    },
    "papermill": {
     "duration": 0.038509,
     "end_time": "2021-08-17T14:05:58.410571",
     "exception": false,
     "start_time": "2021-08-17T14:05:58.372062",
     "status": "completed"
    },
    "tags": []
   },
   "outputs": [],
   "source": [
    "models_classification = pd.DataFrame({\n",
    "    'Model': ['KNN', 'SVM', \n",
    "              'Random Forest', 'Naive Bayes', 'Decision Tree'],\n",
    "    'Score': [knn,svm,rf,nb,dt]})"
   ]
  },
  {
   "cell_type": "code",
   "execution_count": 29,
   "id": "7e3453a5",
   "metadata": {
    "execution": {
     "iopub.execute_input": "2021-08-17T14:05:58.477446Z",
     "iopub.status.busy": "2021-08-17T14:05:58.476749Z",
     "iopub.status.idle": "2021-08-17T14:05:58.481858Z",
     "shell.execute_reply": "2021-08-17T14:05:58.481206Z",
     "shell.execute_reply.started": "2021-08-17T14:03:48.553011Z"
    },
    "papermill": {
     "duration": 0.043277,
     "end_time": "2021-08-17T14:05:58.482001",
     "exception": false,
     "start_time": "2021-08-17T14:05:58.438724",
     "status": "completed"
    },
    "tags": []
   },
   "outputs": [
    {
     "data": {
      "text/html": [
       "<div>\n",
       "<style scoped>\n",
       "    .dataframe tbody tr th:only-of-type {\n",
       "        vertical-align: middle;\n",
       "    }\n",
       "\n",
       "    .dataframe tbody tr th {\n",
       "        vertical-align: top;\n",
       "    }\n",
       "\n",
       "    .dataframe thead th {\n",
       "        text-align: right;\n",
       "    }\n",
       "</style>\n",
       "<table border=\"1\" class=\"dataframe\">\n",
       "  <thead>\n",
       "    <tr style=\"text-align: right;\">\n",
       "      <th></th>\n",
       "      <th>Model</th>\n",
       "      <th>Score</th>\n",
       "    </tr>\n",
       "  </thead>\n",
       "  <tbody>\n",
       "    <tr>\n",
       "      <th>2</th>\n",
       "      <td>Random Forest</td>\n",
       "      <td>0.681538</td>\n",
       "    </tr>\n",
       "    <tr>\n",
       "      <th>4</th>\n",
       "      <td>Decision Tree</td>\n",
       "      <td>0.620513</td>\n",
       "    </tr>\n",
       "    <tr>\n",
       "      <th>0</th>\n",
       "      <td>KNN</td>\n",
       "      <td>0.480000</td>\n",
       "    </tr>\n",
       "    <tr>\n",
       "      <th>1</th>\n",
       "      <td>SVM</td>\n",
       "      <td>0.454872</td>\n",
       "    </tr>\n",
       "    <tr>\n",
       "      <th>3</th>\n",
       "      <td>Naive Bayes</td>\n",
       "      <td>0.422051</td>\n",
       "    </tr>\n",
       "  </tbody>\n",
       "</table>\n",
       "</div>"
      ],
      "text/plain": [
       "           Model     Score\n",
       "2  Random Forest  0.681538\n",
       "4  Decision Tree  0.620513\n",
       "0            KNN  0.480000\n",
       "1            SVM  0.454872\n",
       "3    Naive Bayes  0.422051"
      ]
     },
     "execution_count": 29,
     "metadata": {},
     "output_type": "execute_result"
    }
   ],
   "source": [
    "# show all the models \n",
    "models_classification.sort_values(by='Score', ascending=False)"
   ]
  },
  {
   "cell_type": "code",
   "execution_count": 30,
   "id": "99149157",
   "metadata": {
    "execution": {
     "iopub.execute_input": "2021-08-17T14:05:58.542543Z",
     "iopub.status.busy": "2021-08-17T14:05:58.541883Z",
     "iopub.status.idle": "2021-08-17T14:05:58.705327Z",
     "shell.execute_reply": "2021-08-17T14:05:58.705857Z",
     "shell.execute_reply.started": "2021-08-17T14:03:56.901162Z"
    },
    "papermill": {
     "duration": 0.195385,
     "end_time": "2021-08-17T14:05:58.706054",
     "exception": false,
     "start_time": "2021-08-17T14:05:58.510669",
     "status": "completed"
    },
    "tags": []
   },
   "outputs": [
    {
     "data": {
      "image/png": "[encoded data removed]",
      "text/plain": [
       "<Figure size 1000x500 with 1 Axes>"
      ]
     },
     "metadata": {},
     "output_type": "display_data"
    }
   ],
   "source": [
    "#plotting the graph \n",
    "plt.figure(figsize=(10,5))\n",
    "sns.barplot(x='Model',y='Score',data=models_classification)\n",
    "plt.show()"
   ]
  },
  {
   "attachments": {},
   "cell_type": "markdown",
   "id": "68095440",
   "metadata": {
    "execution": {
     "iopub.execute_input": "2021-08-17T14:02:22.980443Z",
     "iopub.status.busy": "2021-08-17T14:02:22.979818Z",
     "iopub.status.idle": "2021-08-17T14:02:22.984698Z",
     "shell.execute_reply": "2021-08-17T14:02:22.983805Z",
     "shell.execute_reply.started": "2021-08-17T14:02:22.980392Z"
    },
    "papermill": {
     "duration": 0.027365,
     "end_time": "2021-08-17T14:05:54.048566",
     "exception": false,
     "start_time": "2021-08-17T14:05:54.021201",
     "status": "completed"
    },
    "tags": []
   },
   "source": [
    "# Train model (REGRESSION)"
   ]
  },
  {
   "cell_type": "code",
   "execution_count": 31,
   "id": "c73a2436",
   "metadata": {
    "execution": {
     "iopub.execute_input": "2021-08-17T14:05:54.436125Z",
     "iopub.status.busy": "2021-08-17T14:05:54.435356Z",
     "iopub.status.idle": "2021-08-17T14:05:54.713428Z",
     "shell.execute_reply": "2021-08-17T14:05:54.714364Z",
     "shell.execute_reply.started": "2021-08-17T14:02:55.904088Z"
    },
    "papermill": {
     "duration": 0.311795,
     "end_time": "2021-08-17T14:05:54.714671",
     "exception": false,
     "start_time": "2021-08-17T14:05:54.402876",
     "status": "completed"
    },
    "tags": []
   },
   "outputs": [],
   "source": [
    "#linear regression\n",
    "from sklearn.linear_model import LinearRegression\n",
    "from sklearn.metrics import mean_squared_error\n",
    "lr=LinearRegression()\n",
    "lr.fit(X_train,y_train)\n",
    "#acurracy\n",
    "lr=1- lr.score(X_test,y_test)"
   ]
  },
  {
   "cell_type": "code",
   "execution_count": 32,
   "id": "1a653fc3",
   "metadata": {},
   "outputs": [],
   "source": [
    "#random forest regressor\n",
    "from sklearn.ensemble import RandomForestRegressor\n",
    "from sklearn.metrics import mean_squared_error\n",
    "rfr = RandomForestRegressor(n_estimators=100)\n",
    "rfr.fit(X_train, y_train)\n",
    "rfr = rfr.predict(X_test)\n",
    "mse_rfr = mean_squared_error(y_test, rfr)"
   ]
  },
  {
   "cell_type": "code",
   "execution_count": 33,
   "id": "ffcc825b",
   "metadata": {},
   "outputs": [],
   "source": [
    "#support vector regressor\n",
    "from sklearn.svm import SVR\n",
    "from sklearn.preprocessing import StandardScaler\n",
    "# Scaling the features\n",
    "scaler = StandardScaler()\n",
    "X_train_scaled = scaler.fit_transform(X_train)\n",
    "X_test_scaled = scaler.transform(X_test)\n",
    "svr = SVR(kernel='rbf', C=1.0, epsilon=0.1)\n",
    "svr.fit(X_train_scaled, y_train)\n",
    "svr = svr.predict(X_test_scaled)\n",
    "mse_svr = mean_squared_error(y_test, svr)"
   ]
  },
  {
   "cell_type": "code",
   "execution_count": 34,
   "id": "0b99d125",
   "metadata": {},
   "outputs": [],
   "source": [
    "#ridge regression\n",
    "from sklearn.linear_model import Ridge\n",
    "ridge = Ridge(alpha=0.5)\n",
    "ridge.fit(X_train, y_train)\n",
    "ridge = ridge.predict(X_test)\n",
    "mse_ridge = mean_squared_error(y_test, ridge)"
   ]
  },
  {
   "cell_type": "code",
   "execution_count": 35,
   "id": "2f0de41e",
   "metadata": {},
   "outputs": [],
   "source": [
    "#lasso regression\n",
    "from sklearn.linear_model import Lasso\n",
    "lasso = Lasso(alpha=0.5)\n",
    "lasso.fit(X_train, y_train)\n",
    "lasso = lasso.predict(X_test)\n",
    "mse_lasso = mean_squared_error(y_test, lasso)"
   ]
  },
  {
   "cell_type": "code",
   "execution_count": 36,
   "id": "58d2d0b1",
   "metadata": {},
   "outputs": [],
   "source": [
    "models_regression = pd.DataFrame({\n",
    "    'Model': ['Linear-R', 'RandomForest-R', 'SVR', 'Ridge', 'Lasso'],\n",
    "              'Error': [lr,mse_rfr,mse_svr,mse_ridge,mse_lasso]})"
   ]
  },
  {
   "cell_type": "code",
   "execution_count": 37,
   "id": "e45591cc",
   "metadata": {},
   "outputs": [
    {
     "data": {
      "text/html": [
       "<div>\n",
       "<style scoped>\n",
       "    .dataframe tbody tr th:only-of-type {\n",
       "        vertical-align: middle;\n",
       "    }\n",
       "\n",
       "    .dataframe tbody tr th {\n",
       "        vertical-align: top;\n",
       "    }\n",
       "\n",
       "    .dataframe thead th {\n",
       "        text-align: right;\n",
       "    }\n",
       "</style>\n",
       "<table border=\"1\" class=\"dataframe\">\n",
       "  <thead>\n",
       "    <tr style=\"text-align: right;\">\n",
       "      <th></th>\n",
       "      <th>Model</th>\n",
       "      <th>Error</th>\n",
       "    </tr>\n",
       "  </thead>\n",
       "  <tbody>\n",
       "    <tr>\n",
       "      <th>1</th>\n",
       "      <td>RandomForest-R</td>\n",
       "      <td>0.375217</td>\n",
       "    </tr>\n",
       "    <tr>\n",
       "      <th>2</th>\n",
       "      <td>SVR</td>\n",
       "      <td>0.468222</td>\n",
       "    </tr>\n",
       "    <tr>\n",
       "      <th>3</th>\n",
       "      <td>Ridge</td>\n",
       "      <td>0.535102</td>\n",
       "    </tr>\n",
       "    <tr>\n",
       "      <th>0</th>\n",
       "      <td>Linear-R</td>\n",
       "      <td>0.710367</td>\n",
       "    </tr>\n",
       "    <tr>\n",
       "      <th>4</th>\n",
       "      <td>Lasso</td>\n",
       "      <td>0.737879</td>\n",
       "    </tr>\n",
       "  </tbody>\n",
       "</table>\n",
       "</div>"
      ],
      "text/plain": [
       "            Model     Error\n",
       "1  RandomForest-R  0.375217\n",
       "2             SVR  0.468222\n",
       "3           Ridge  0.535102\n",
       "0        Linear-R  0.710367\n",
       "4           Lasso  0.737879"
      ]
     },
     "execution_count": 37,
     "metadata": {},
     "output_type": "execute_result"
    }
   ],
   "source": [
    "# show all the models \n",
    "models_regression.sort_values(by='Error', ascending=True)"
   ]
  },
  {
   "cell_type": "code",
   "execution_count": 38,
   "id": "2fde63d6",
   "metadata": {},
   "outputs": [
    {
     "data": {
      "image/png": "[encoded data removed]",
      "text/plain": [
       "<Figure size 1000x500 with 1 Axes>"
      ]
     },
     "metadata": {},
     "output_type": "display_data"
    }
   ],
   "source": [
    "#plotting the graph \n",
    "plt.figure(figsize=(10,5))\n",
    "sns.barplot(x='Model',y='Error',data=models_regression)\n",
    "plt.show()"
   ]
  }
 ],
 "metadata": {
  "kernelspec": {
   "display_name": "Python 3",
   "language": "python",
   "name": "python3"
  },
  "language_info": {
   "codemirror_mode": {
    "name": "ipython",
    "version": 3
   },
   "file_extension": ".py",
   "mimetype": "text/x-python",
   "name": "python",
   "nbconvert_exporter": "python",
   "pygments_lexer": "ipython3",
   "version": "3.10.6"
  },
  "papermill": {
   "default_parameters": {},
   "duration": 17.576099,
   "end_time": "2021-08-17T14:05:59.545835",
   "environment_variables": {},
   "exception": null,
   "input_path": "__notebook__.ipynb",
   "output_path": "__notebook__.ipynb",
   "parameters": {},
   "start_time": "2021-08-17T14:05:41.969736",
   "version": "2.3.3"
  }
 },
 "nbformat": 4,
 "nbformat_minor": 5
}
